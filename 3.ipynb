{
 "cells": [
  {
   "cell_type": "code",
   "id": "initial_id",
   "metadata": {
    "collapsed": true,
    "ExecuteTime": {
     "end_time": "2025-01-10T12:47:38.226709Z",
     "start_time": "2025-01-10T12:47:36.441508Z"
    }
   },
   "source": [
    "import math\n",
    "\n",
    "def is_prime(n):\n",
    "    if n <= 1:\n",
    "        return False\n",
    "    if n == 2:\n",
    "        return True\n",
    "    if n % 2 == 0:\n",
    "        return False\n",
    "    for i in range(3, int(math.sqrt(n)) + 1, 2):\n",
    "        if n % i == 0:\n",
    "            return False\n",
    "    return True\n",
    "\n",
    "x = int(input())\n",
    "print(is_prime(x))"
   ],
   "outputs": [
    {
     "name": "stdout",
     "output_type": "stream",
     "text": [
      "True\n"
     ]
    }
   ],
   "execution_count": 1
  },
  {
   "metadata": {
    "ExecuteTime": {
     "end_time": "2025-01-10T12:47:52.943452Z",
     "start_time": "2025-01-10T12:47:52.937927Z"
    }
   },
   "cell_type": "code",
   "source": [
    "def insertion_sort(arr):\n",
    "    for i in range(1, len(arr)):\n",
    "        key = arr[i]\n",
    "        j = i - 1\n",
    "        while j >= 0 and key < arr[j]:\n",
    "            arr[j + 1] = arr[j]\n",
    "            j -= 1\n",
    "        arr[j + 1] = key\n",
    "    return arr\n",
    "\n",
    "arr = [18, 11, 13, 5, 6]\n",
    "sorted_arr = insertion_sort(arr)\n",
    "print(\"Sorted array is:\", sorted_arr)"
   ],
   "id": "6fa90d7ebce2e4c7",
   "outputs": [
    {
     "name": "stdout",
     "output_type": "stream",
     "text": [
      "Sorted array is: [5, 6, 11, 13, 18]\n"
     ]
    }
   ],
   "execution_count": 3
  },
  {
   "metadata": {
    "ExecuteTime": {
     "end_time": "2025-01-10T12:48:17.822495Z",
     "start_time": "2025-01-10T12:48:17.817420Z"
    }
   },
   "cell_type": "code",
   "source": [
    "def selection_sort(arr):\n",
    "    n = len(arr)\n",
    "    for i in range(n):\n",
    "        min_index = i\n",
    "        for j in range(i + 1, n):\n",
    "            if arr[j] < arr[min_index]:\n",
    "                min_index = j\n",
    "        arr[i], arr[min_index] = arr[min_index], arr[i]\n",
    "    return arr\n",
    "\n",
    "arr = [43, 65, 22, 1, 96]\n",
    "sorted_arr = selection_sort(arr)\n",
    "print(sorted_arr)"
   ],
   "id": "d43a83e4ec75f088",
   "outputs": [
    {
     "name": "stdout",
     "output_type": "stream",
     "text": [
      "[1, 22, 43, 65, 96]\n"
     ]
    }
   ],
   "execution_count": 4
  },
  {
   "metadata": {
    "ExecuteTime": {
     "end_time": "2025-01-10T12:48:24.853567Z",
     "start_time": "2025-01-10T12:48:24.846472Z"
    }
   },
   "cell_type": "code",
   "source": [
    "def quick_sort(arr):\n",
    "    def partition(low, high):\n",
    "        pivot = arr[high]\n",
    "        i = low - 1\n",
    "        for j in range(low, high):\n",
    "            if arr[j] <= pivot:\n",
    "                i += 1\n",
    "                arr[i], arr[j] = arr[j], arr[i]\n",
    "        arr[i + 1], arr[high] = arr[high], arr[i + 1]\n",
    "        return i + 1\n",
    "\n",
    "    def quick_sort_recursive(low, high):\n",
    "        if low < high:\n",
    "            pi = partition(low, high)\n",
    "            quick_sort_recursive(low, pi - 1)\n",
    "            quick_sort_recursive(pi + 1, high)\n",
    "\n",
    "    quick_sort_recursive(0, len(arr) - 1)\n",
    "    return arr\n",
    "\n",
    "arr = [10, 7, 8, 9, 1, 5]\n",
    "sorted_arr = quick_sort(arr)\n",
    "print(\"Sorted array is:\", sorted_arr)"
   ],
   "id": "d55092b83b6a2e1b",
   "outputs": [
    {
     "name": "stdout",
     "output_type": "stream",
     "text": [
      "Sorted array is: [1, 5, 7, 8, 9, 10]\n"
     ]
    }
   ],
   "execution_count": 5
  },
  {
   "metadata": {
    "ExecuteTime": {
     "end_time": "2025-01-10T12:48:33.833869Z",
     "start_time": "2025-01-10T12:48:32.295303Z"
    }
   },
   "cell_type": "code",
   "source": [
    "import random\n",
    "import time\n",
    "\n",
    "def merge_sort(arr):\n",
    "    if len(arr) > 1:\n",
    "        mid = len(arr) // 2\n",
    "        L = arr[:mid]\n",
    "        R = arr[mid:]\n",
    "\n",
    "        merge_sort(L)\n",
    "        merge_sort(R)\n",
    "\n",
    "        i = j = k = 0\n",
    "        while i < len(L) and j < len(R):\n",
    "            if L[i] < R[j]:\n",
    "                arr[k] = L[i]\n",
    "                i += 1\n",
    "            else:\n",
    "                arr[k] = R[j]\n",
    "                j += 1\n",
    "            k += 1\n",
    "\n",
    "        while i < len(L):\n",
    "            arr[k] = L[i]\n",
    "            i += 1\n",
    "            k += 1\n",
    "\n",
    "        while j < len(R):\n",
    "            arr[k] = R[j]\n",
    "            j += 1\n",
    "            k += 1\n",
    "    return arr\n",
    "\n",
    "def generate_random_array(n):\n",
    "    return [random.randint(0, n) for _ in range(n)]\n",
    "\n",
    "def test_sort_algorithms(n):\n",
    "    arr = generate_random_array(n)\n",
    "    print(f\"Generated array of length {n}: {arr[:10]}... ({n} elements)\")\n",
    "\n",
    "    start_time = time.time()\n",
    "    sorted_arr = selection_sort(arr.copy())\n",
    "    selection_time = time.time() - start_time\n",
    "    print(f\"Selection sort took {selection_time:.6f} seconds\")\n",
    "\n",
    "    start_time = time.time()\n",
    "    sorted_arr = merge_sort(arr.copy())\n",
    "    merge_time = time.time() - start_time\n",
    "    print(f\"Merge sort took {merge_time:.6f} seconds\")\n",
    "\n",
    "    start_time = time.time()\n",
    "    sorted_arr = quick_sort(arr.copy())\n",
    "    quick_time = time.time() - start_time\n",
    "    print(f\"Quick sort took {quick_time:.6f} seconds\\\\n\")\n",
    "\n",
    "test_sort_algorithms(100)\n",
    "test_sort_algorithms(1000)\n",
    "test_sort_algorithms(10000)"
   ],
   "id": "f67bc2f51e0e2cb5",
   "outputs": [
    {
     "name": "stdout",
     "output_type": "stream",
     "text": [
      "Generated array of length 100: [0, 7, 97, 50, 83, 48, 37, 91, 46, 60]... (100 elements)\n",
      "Selection sort took 0.000000 seconds\n",
      "Merge sort took 0.001001 seconds\n",
      "Quick sort took 0.000000 seconds\\n\n",
      "Generated array of length 1000: [444, 879, 553, 423, 899, 766, 568, 397, 870, 105]... (1000 elements)\n",
      "Selection sort took 0.015006 seconds\n",
      "Merge sort took 0.000991 seconds\n",
      "Quick sort took 0.000999 seconds\\n\n",
      "Generated array of length 10000: [3265, 8823, 4599, 4488, 3015, 5032, 300, 1822, 5444, 5896]... (10000 elements)\n",
      "Selection sort took 1.482250 seconds\n",
      "Merge sort took 0.016001 seconds\n",
      "Quick sort took 0.010997 seconds\\n\n"
     ]
    }
   ],
   "execution_count": 6
  },
  {
   "metadata": {
    "ExecuteTime": {
     "end_time": "2025-01-10T12:48:47.429582Z",
     "start_time": "2025-01-10T12:48:47.425734Z"
    }
   },
   "cell_type": "code",
   "source": [
    "from datetime import datetime\n",
    "\n",
    "now = datetime.now()\n",
    "print(now)"
   ],
   "id": "afc0016c357d07df",
   "outputs": [
    {
     "name": "stdout",
     "output_type": "stream",
     "text": [
      "2025-01-10 20:48:47.427737\n"
     ]
    }
   ],
   "execution_count": 7
  },
  {
   "metadata": {
    "ExecuteTime": {
     "end_time": "2025-01-10T12:55:08.487749Z",
     "start_time": "2025-01-10T12:55:08.481549Z"
    }
   },
   "cell_type": "code",
   "source": [
    "import csv\n",
    "\n",
    "# 科目列表\n",
    "subjects = [\"chinese\", \"math\", \"english\"]\n",
    "\n",
    "# 初始化总成绩和计数器\n",
    "total_scores = {subject: 0 for subject in subjects}\n",
    "count = 0\n",
    "\n",
    "# 读取 CSV 文件\n",
    "with open('D:\\\\DATA\\\\stuGrade.csv', mode='r', encoding='utf-8') as file:\n",
    "    reader = csv.DictReader(file)\n",
    "    for row in reader:\n",
    "        count += 1\n",
    "        for subject in subjects:\n",
    "            total_scores[subject] += int(row[subject])\n",
    "\n",
    "# 计算平均成绩\n",
    "average_scores = {subject: total_scores[subject] / count for subject in subjects}\n",
    "\n",
    "# 打印平均成绩\n",
    "for subject, average in average_scores.items():\n",
    "    print(f\"{subject}的平均成绩是：{average:.2f}\")"
   ],
   "id": "1625a7161906fa71",
   "outputs": [
    {
     "name": "stdout",
     "output_type": "stream",
     "text": [
      "chinese的平均成绩是：82.60\n",
      "math的平均成绩是：81.00\n",
      "english的平均成绩是：81.80\n"
     ]
    }
   ],
   "execution_count": 9
  },
  {
   "metadata": {
    "ExecuteTime": {
     "end_time": "2025-01-10T12:55:54.734934Z",
     "start_time": "2025-01-10T12:55:52.725716Z"
    }
   },
   "cell_type": "code",
   "source": [
    "import csv\n",
    "from datetime import datetime\n",
    "import time\n",
    "\n",
    "# 初始化变量来存储总成绩和学生数量\n",
    "total_chinese = 0\n",
    "total_math = 0\n",
    "total_english = 0\n",
    "student_count = 0\n",
    "\n",
    "# 打开 CSV 文件\n",
    "with open('D:\\\\DATA\\\\stuGrade.csv', 'r', encoding='utf-8') as file:\n",
    "    # 创建 CSV 阅读器\n",
    "    reader = csv.reader(file)\n",
    "    # 跳过标题行\n",
    "    next(reader)\n",
    "    # 遍历每一行数据\n",
    "    for row in reader:\n",
    "        # 累加各科成绩\n",
    "        total_chinese += int(row[1])\n",
    "        total_math += int(row[2])\n",
    "        total_english += int(row[3])\n",
    "        # 增加学生数量\n",
    "        student_count += 1\n",
    "\n",
    "# 计算平均成绩\n",
    "average_chinese = round(total_chinese / student_count, 2)\n",
    "average_math = round(total_math / student_count, 2)\n",
    "average_english = round(total_english / student_count, 2)\n",
    "\n",
    "# 写入 my.txt 文件\n",
    "with open('my.txt', 'w', encoding='utf-8') as file:\n",
    "    # 写入学号和姓名\n",
    "    file.write('学号:12345, 姓名:Inargon\\\\n')\n",
    "    # 写入各科平均成绩\n",
    "    file.write(f'{average_chinese:.2f}, {average_math:.2f}, {average_english:.2f}\\\\n')\n",
    "    # 写入当前系统时间\n",
    "    current_time = datetime.now().strftime('%Y-%m-%d %H:%M:%S')\n",
    "    file.write(current_time + '\\\\n')\n",
    "    # 等待两秒\n",
    "    time.sleep(2)\n",
    "    # 写入两秒后的系统时间\n",
    "    new_time = datetime.now().strftime('%Y-%m-%d %H:%M:%S')\n",
    "    file.write(new_time + '\\\\n')\n",
    "\n",
    "print(\"文件已成功写入。\")"
   ],
   "id": "5ff0f96056eafaff",
   "outputs": [
    {
     "name": "stdout",
     "output_type": "stream",
     "text": [
      "文件已成功写入。\n"
     ]
    }
   ],
   "execution_count": 10
  }
 ],
 "metadata": {
  "kernelspec": {
   "display_name": "Python 3",
   "language": "python",
   "name": "python3"
  },
  "language_info": {
   "codemirror_mode": {
    "name": "ipython",
    "version": 2
   },
   "file_extension": ".py",
   "mimetype": "text/x-python",
   "name": "python",
   "nbconvert_exporter": "python",
   "pygments_lexer": "ipython2",
   "version": "2.7.6"
  }
 },
 "nbformat": 4,
 "nbformat_minor": 5
}
