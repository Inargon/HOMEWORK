{
 "cells": [
  {
   "metadata": {
    "ExecuteTime": {
     "end_time": "2025-01-10T12:37:57.901442Z",
     "start_time": "2025-01-10T12:37:57.898692Z"
    }
   },
   "cell_type": "code",
   "source": "print(\"数据科学与工程导论\")",
   "id": "83b08e2c644301bf",
   "outputs": [
    {
     "name": "stdout",
     "output_type": "stream",
     "text": [
      "数据科学与工程导论\n"
     ]
    }
   ],
   "execution_count": 1
  },
  {
   "metadata": {
    "ExecuteTime": {
     "end_time": "2025-01-10T12:38:25.028317Z",
     "start_time": "2025-01-10T12:37:57.937454Z"
    }
   },
   "cell_type": "code",
   "source": [
    "x = int(input(\"x=\"))\n",
    "y = int(input(\"y=\"))\n",
    "z = int(input(\"z=\"))\n",
    "numbers = [x, y, z]\n",
    "numbers.sort()\n",
    "print(numbers)"
   ],
   "id": "2aeeb4c3714afefa",
   "outputs": [
    {
     "name": "stdout",
     "output_type": "stream",
     "text": [
      "[1, 5, 7]\n"
     ]
    }
   ],
   "execution_count": 2
  },
  {
   "metadata": {
    "ExecuteTime": {
     "end_time": "2025-01-10T12:38:33.173617Z",
     "start_time": "2025-01-10T12:38:25.325537Z"
    }
   },
   "cell_type": "code",
   "source": [
    "x = int(input(\"x=\"))\n",
    "y = int(input(\"y=\"))\n",
    "z = int(input(\"z=\"))\n",
    "w = int(input(\"w=\"))\n",
    "numbers = [x, y, z, w]\n",
    "numbers.sort(reverse=True)\n",
    "print(numbers)"
   ],
   "id": "e72cb452c375368f",
   "outputs": [
    {
     "name": "stdout",
     "output_type": "stream",
     "text": [
      "[7, 5, 4, 2]\n"
     ]
    }
   ],
   "execution_count": 3
  },
  {
   "metadata": {
    "ExecuteTime": {
     "end_time": "2025-01-10T12:38:33.201741Z",
     "start_time": "2025-01-10T12:38:33.196871Z"
    }
   },
   "cell_type": "code",
   "source": [
    "for i in range(1, 101):\n",
    "    if i % 2 == 1:\n",
    "        print(i)"
   ],
   "id": "7da889a4274d150f",
   "outputs": [
    {
     "name": "stdout",
     "output_type": "stream",
     "text": [
      "1\n",
      "3\n",
      "5\n",
      "7\n",
      "9\n",
      "11\n",
      "13\n",
      "15\n",
      "17\n",
      "19\n",
      "21\n",
      "23\n",
      "25\n",
      "27\n",
      "29\n",
      "31\n",
      "33\n",
      "35\n",
      "37\n",
      "39\n",
      "41\n",
      "43\n",
      "45\n",
      "47\n",
      "49\n",
      "51\n",
      "53\n",
      "55\n",
      "57\n",
      "59\n",
      "61\n",
      "63\n",
      "65\n",
      "67\n",
      "69\n",
      "71\n",
      "73\n",
      "75\n",
      "77\n",
      "79\n",
      "81\n",
      "83\n",
      "85\n",
      "87\n",
      "89\n",
      "91\n",
      "93\n",
      "95\n",
      "97\n",
      "99\n"
     ]
    }
   ],
   "execution_count": 4
  },
  {
   "metadata": {
    "ExecuteTime": {
     "end_time": "2025-01-10T12:39:54.998505Z",
     "start_time": "2025-01-10T12:39:54.992986Z"
    }
   },
   "cell_type": "code",
   "source": [
    "sum = 0\n",
    "for i in range(1, 101):\n",
    "    sum += i\n",
    "print(sum)"
   ],
   "id": "b795eb7bd7be2864",
   "outputs": [
    {
     "name": "stdout",
     "output_type": "stream",
     "text": [
      "5050\n"
     ]
    }
   ],
   "execution_count": 6
  },
  {
   "metadata": {
    "ExecuteTime": {
     "end_time": "2025-01-10T12:41:05.968055Z",
     "start_time": "2025-01-10T12:40:59.474119Z"
    }
   },
   "cell_type": "code",
   "source": [
    "xulie = input()\n",
    "L = [int(i) for i in xulie.split(',')]\n",
    "\n",
    "for i in range(len(L) - 1, -1, -1):\n",
    "    print(L[i])\n",
    "\n",
    "index = len(L) - 1\n",
    "while index >= 0:\n",
    "    print(L[index])\n",
    "    index -= 1"
   ],
   "id": "1ab842acf090b825",
   "outputs": [
    {
     "name": "stdout",
     "output_type": "stream",
     "text": [
      "4\n",
      "3\n",
      "2\n",
      "1\n",
      "4\n",
      "3\n",
      "2\n",
      "1\n"
     ]
    }
   ],
   "execution_count": 7
  },
  {
   "metadata": {
    "ExecuteTime": {
     "end_time": "2025-01-10T12:41:33.752011Z",
     "start_time": "2025-01-10T12:41:20.633786Z"
    }
   },
   "cell_type": "code",
   "source": [
    "s = input()\n",
    "same = False\n",
    "for i in range(len(s) - 1):\n",
    "    if s[i] == s[i + 1]:\n",
    "        same = True\n",
    "        while i + 1 < len(s) and s[i] == s[i + 1]:\n",
    "            i += 1\n",
    "if same:\n",
    "    print(\"是\")\n",
    "else:\n",
    "    print(\"否\")"
   ],
   "id": "267e2340bc52aa67",
   "outputs": [
    {
     "name": "stdout",
     "output_type": "stream",
     "text": [
      "是\n"
     ]
    }
   ],
   "execution_count": 8
  },
  {
   "metadata": {
    "ExecuteTime": {
     "end_time": "2025-01-10T12:41:40.808003Z",
     "start_time": "2025-01-10T12:41:38.285307Z"
    }
   },
   "cell_type": "code",
   "source": [
    "s = input()\n",
    "clean = s.replace(\" \", \"\")\n",
    "print(clean)"
   ],
   "id": "9192f65901a7cdda",
   "outputs": [
    {
     "name": "stdout",
     "output_type": "stream",
     "text": [
      "asdaasdq\n"
     ]
    }
   ],
   "execution_count": 9
  },
  {
   "metadata": {
    "ExecuteTime": {
     "end_time": "2025-01-10T12:41:49.245461Z",
     "start_time": "2025-01-10T12:41:44.005367Z"
    }
   },
   "cell_type": "code",
   "source": [
    "def cube_root(a, tolerance=1e-6, max=100):\n",
    "    x = a\n",
    "    for i in range(max):\n",
    "        x_new = (2 * x**3 + a) / (3 * x**2)\n",
    "        if abs(x_new - x) < tolerance:\n",
    "            return x_new\n",
    "        x = x_new\n",
    "    return x\n",
    "\n",
    "a = int(input())\n",
    "print(cube_root(a))"
   ],
   "id": "fa50a82cab518e9f",
   "outputs": [
    {
     "name": "stdout",
     "output_type": "stream",
     "text": [
      "1.709975946676697\n"
     ]
    }
   ],
   "execution_count": 10
  },
  {
   "metadata": {
    "ExecuteTime": {
     "end_time": "2025-01-10T12:41:55.673447Z",
     "start_time": "2025-01-10T12:41:53.343940Z"
    }
   },
   "cell_type": "code",
   "source": [
    "i = int(input())\n",
    "ji = 1\n",
    "while i > 0:\n",
    "    ji *= i\n",
    "    i -= 1\n",
    "print(ji)"
   ],
   "id": "ab899d27d0287b8a",
   "outputs": [
    {
     "name": "stdout",
     "output_type": "stream",
     "text": [
      "39916800\n"
     ]
    }
   ],
   "execution_count": 11
  },
  {
   "metadata": {
    "ExecuteTime": {
     "end_time": "2025-01-10T15:58:52.787918Z",
     "start_time": "2025-01-10T15:58:49.307933Z"
    }
   },
   "cell_type": "code",
   "source": "!pip install --upgrade numpy pandas matplotlib",
   "id": "15aff6dd7d054834",
   "outputs": [
    {
     "name": "stdout",
     "output_type": "stream",
     "text": [
      "Requirement already satisfied: numpy in d:\\sthinpython\\.venv\\lib\\site-packages (2.2.1)\n",
      "Requirement already satisfied: pandas in d:\\sthinpython\\.venv\\lib\\site-packages (2.2.3)\n",
      "Requirement already satisfied: matplotlib in d:\\sthinpython\\.venv\\lib\\site-packages (3.10.0)\n",
      "Requirement already satisfied: python-dateutil>=2.8.2 in d:\\sthinpython\\.venv\\lib\\site-packages (from pandas) (2.9.0.post0)\n",
      "Requirement already satisfied: pytz>=2020.1 in d:\\sthinpython\\.venv\\lib\\site-packages (from pandas) (2024.2)\n",
      "Requirement already satisfied: tzdata>=2022.7 in d:\\sthinpython\\.venv\\lib\\site-packages (from pandas) (2024.2)\n",
      "Requirement already satisfied: contourpy>=1.0.1 in d:\\sthinpython\\.venv\\lib\\site-packages (from matplotlib) (1.3.1)\n",
      "Requirement already satisfied: cycler>=0.10 in d:\\sthinpython\\.venv\\lib\\site-packages (from matplotlib) (0.12.1)\n",
      "Requirement already satisfied: fonttools>=4.22.0 in d:\\sthinpython\\.venv\\lib\\site-packages (from matplotlib) (4.55.3)\n",
      "Requirement already satisfied: kiwisolver>=1.3.1 in d:\\sthinpython\\.venv\\lib\\site-packages (from matplotlib) (1.4.8)\n",
      "Requirement already satisfied: packaging>=20.0 in d:\\sthinpython\\.venv\\lib\\site-packages (from matplotlib) (24.2)\n",
      "Requirement already satisfied: pillow>=8 in d:\\sthinpython\\.venv\\lib\\site-packages (from matplotlib) (11.1.0)\n",
      "Requirement already satisfied: pyparsing>=2.3.1 in d:\\sthinpython\\.venv\\lib\\site-packages (from matplotlib) (3.2.1)\n",
      "Requirement already satisfied: six>=1.5 in d:\\sthinpython\\.venv\\lib\\site-packages (from python-dateutil>=2.8.2->pandas) (1.17.0)\n"
     ]
    },
    {
     "name": "stderr",
     "output_type": "stream",
     "text": [
      "\n",
      "[notice] A new release of pip is available: 23.2.1 -> 24.3.1\n",
      "[notice] To update, run: python.exe -m pip install --upgrade pip\n"
     ]
    }
   ],
   "execution_count": 1
  }
 ],
 "metadata": {
  "kernelspec": {
   "display_name": "Python 3",
   "language": "python",
   "name": "python3"
  },
  "language_info": {
   "codemirror_mode": {
    "name": "ipython",
    "version": 2
   },
   "file_extension": ".py",
   "mimetype": "text/x-python",
   "name": "python",
   "nbconvert_exporter": "python",
   "pygments_lexer": "ipython2",
   "version": "2.7.6"
  }
 },
 "nbformat": 4,
 "nbformat_minor": 5
}
