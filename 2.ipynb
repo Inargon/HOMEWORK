{
 "cells": [
  {
   "cell_type": "code",
   "id": "initial_id",
   "metadata": {
    "collapsed": true,
    "ExecuteTime": {
     "end_time": "2025-01-10T12:43:32.632918Z",
     "start_time": "2025-01-10T12:43:29.540103Z"
    }
   },
   "source": [
    "def gcd(a, b):\n",
    "    while b:\n",
    "        a, b = b, a % b\n",
    "    return a\n",
    "\n",
    "x = int(input())\n",
    "y = int(input())\n",
    "a = 0\n",
    "if x < y:\n",
    "    a = x\n",
    "    x = y\n",
    "    y = a\n",
    "ans = gcd(x, y)\n",
    "print(ans)"
   ],
   "outputs": [
    {
     "name": "stdout",
     "output_type": "stream",
     "text": [
      "11\n"
     ]
    }
   ],
   "execution_count": 2
  },
  {
   "metadata": {
    "ExecuteTime": {
     "end_time": "2025-01-10T12:43:47.204767Z",
     "start_time": "2025-01-10T12:43:44.883660Z"
    }
   },
   "cell_type": "code",
   "source": [
    "grade = int(input())\n",
    "if grade >= 90:\n",
    "    print(\"优秀\")\n",
    "elif grade >= 75:\n",
    "    print(\"良好\")\n",
    "elif grade >= 60:\n",
    "    print(\"合格\")\n",
    "else:\n",
    "    print(\"不合格\")"
   ],
   "id": "f2e508d95b5047b4",
   "outputs": [
    {
     "name": "stdout",
     "output_type": "stream",
     "text": [
      "良好\n"
     ]
    }
   ],
   "execution_count": 3
  },
  {
   "metadata": {
    "ExecuteTime": {
     "end_time": "2025-01-10T12:44:04.815653Z",
     "start_time": "2025-01-10T12:43:59.183049Z"
    }
   },
   "cell_type": "code",
   "source": [
    "def bin(decimal):\n",
    "    # 处理整数部分\n",
    "    integer_part = int(decimal)\n",
    "    fractional_part = decimal - integer_part\n",
    "    binary_integer = ''\n",
    "    if integer_part == 0:\n",
    "        binary_integer = '0'\n",
    "    else:\n",
    "        while integer_part > 0:\n",
    "            remainder = integer_part % 2\n",
    "            binary_integer = str(remainder) + binary_integer\n",
    "            integer_part = integer_part // 2\n",
    "\n",
    "    # 处理小数部分\n",
    "    binary_fractional = ''\n",
    "    if fractional_part > 0:\n",
    "        while fractional_part > 0:\n",
    "            fractional_part *= 2\n",
    "            bit = int(fractional_part)\n",
    "            binary_fractional += str(bit)\n",
    "            fractional_part -= bit\n",
    "\n",
    "    # 组合整数部分和小数部分\n",
    "    if binary_fractional:  # 如果有小数部分\n",
    "        return binary_integer + '.' + binary_fractional\n",
    "    else:\n",
    "        return binary_integer\n",
    "\n",
    "# 获取用户输入\n",
    "x = float(input(\"Enter a decimal number: \"))\n",
    "print(\"Binary representation:\", bin(x))"
   ],
   "id": "a79ec59d0ae352f6",
   "outputs": [
    {
     "name": "stdout",
     "output_type": "stream",
     "text": [
      "Binary representation: 1010.101\n"
     ]
    }
   ],
   "execution_count": 4
  },
  {
   "metadata": {
    "ExecuteTime": {
     "end_time": "2025-01-10T12:44:20.310926Z",
     "start_time": "2025-01-10T12:44:20.306314Z"
    }
   },
   "cell_type": "code",
   "source": [
    "import random\n",
    "\n",
    "random_float = random.uniform(10, 20)\n",
    "print(random_float)"
   ],
   "id": "affdfaebeff64f59",
   "outputs": [
    {
     "name": "stdout",
     "output_type": "stream",
     "text": [
      "15.675930305159506\n"
     ]
    }
   ],
   "execution_count": 5
  },
  {
   "metadata": {
    "ExecuteTime": {
     "end_time": "2025-01-10T12:44:31.733729Z",
     "start_time": "2025-01-10T12:44:28.789760Z"
    }
   },
   "cell_type": "code",
   "source": [
    "x = int(input())\n",
    "numbers = [0] * len(str(x))\n",
    "i = 0\n",
    "a = 0\n",
    "while x > 0:\n",
    "    numbers[i] = x % 10\n",
    "    x //= 10\n",
    "    i += 1\n",
    "for j in range(len(numbers) // 2):\n",
    "    if numbers[j] != numbers[len(numbers) - j - 1]:\n",
    "        a = 1\n",
    "if a == 0:\n",
    "    print(\"是\")\n",
    "else:\n",
    "    print(\"否\")"
   ],
   "id": "cedb0d854119773f",
   "outputs": [
    {
     "name": "stdout",
     "output_type": "stream",
     "text": [
      "是\n"
     ]
    }
   ],
   "execution_count": 6
  },
  {
   "metadata": {
    "ExecuteTime": {
     "end_time": "2025-01-10T12:44:39.833753Z",
     "start_time": "2025-01-10T12:44:38.650272Z"
    }
   },
   "cell_type": "code",
   "source": [
    "def fab(n):\n",
    "    if n == 0:\n",
    "        return 0\n",
    "    if n == 1:\n",
    "        return 1\n",
    "    else:\n",
    "        return fab(n - 1) + fab(n - 2)\n",
    "\n",
    "n = int(input())\n",
    "numbers = [0] * n\n",
    "for i in range(0, n):\n",
    "    numbers[i] = fab(i + 1)\n",
    "print(numbers)"
   ],
   "id": "a6393ae9a00abcdc",
   "outputs": [
    {
     "name": "stdout",
     "output_type": "stream",
     "text": [
      "[1, 1, 2, 3, 5, 8]\n"
     ]
    }
   ],
   "execution_count": 7
  },
  {
   "metadata": {
    "ExecuteTime": {
     "end_time": "2025-01-10T12:46:06.162037Z",
     "start_time": "2025-01-10T12:45:56.907596Z"
    }
   },
   "cell_type": "code",
   "source": [
    "numbers = []\n",
    "n = int(input())\n",
    "for i in range(n):\n",
    "    num = int(input())\n",
    "    numbers.append(num)\n",
    "if n < 2:\n",
    "    print(\"-1\")\n",
    "else:\n",
    "    sorted_numbers = sorted(set(numbers), key=lambda x: -x)\n",
    "    print(sorted_numbers[1])"
   ],
   "id": "6afe53beb00813d2",
   "outputs": [
    {
     "name": "stdout",
     "output_type": "stream",
     "text": [
      "144\n"
     ]
    }
   ],
   "execution_count": 11
  },
  {
   "metadata": {
    "ExecuteTime": {
     "end_time": "2025-01-10T12:46:32.158387Z",
     "start_time": "2025-01-10T12:46:22.014874Z"
    }
   },
   "cell_type": "code",
   "source": [
    "import re\n",
    "\n",
    "def validate_id_card(id_card):\n",
    "    pattern = re.compile(r'^[1-9]\\d{5}(19|20)\\d{2}(0[1-9]|1[0-2])(0[1-9]|[1-2]\\d|3[0-1])\\d{3}(\\d|X|x)$')\n",
    "    if pattern.match(id_card):\n",
    "        return True\n",
    "    else:\n",
    "        return False\n",
    "\n",
    "id_cards = input()\n",
    "print(validate_id_card(id_cards))"
   ],
   "id": "eaf98c81ce615462",
   "outputs": [
    {
     "name": "stdout",
     "output_type": "stream",
     "text": [
      "False\n"
     ]
    }
   ],
   "execution_count": 12
  }
 ],
 "metadata": {
  "kernelspec": {
   "display_name": "Python 3",
   "language": "python",
   "name": "python3"
  },
  "language_info": {
   "codemirror_mode": {
    "name": "ipython",
    "version": 2
   },
   "file_extension": ".py",
   "mimetype": "text/x-python",
   "name": "python",
   "nbconvert_exporter": "python",
   "pygments_lexer": "ipython2",
   "version": "2.7.6"
  }
 },
 "nbformat": 4,
 "nbformat_minor": 5
}
